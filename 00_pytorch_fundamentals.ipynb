{
  "nbformat": 4,
  "nbformat_minor": 0,
  "metadata": {
    "colab": {
      "provenance": [],
      "authorship_tag": "ABX9TyPjvafjBzaPg6DaBX5r97gJ",
      "include_colab_link": true
    },
    "kernelspec": {
      "name": "python3",
      "display_name": "Python 3"
    },
    "language_info": {
      "name": "python"
    }
  },
  "cells": [
    {
      "cell_type": "markdown",
      "metadata": {
        "id": "view-in-github",
        "colab_type": "text"
      },
      "source": [
        "<a href=\"https://colab.research.google.com/github/deepen-404/pytorch-machine-learning/blob/main/00_pytorch_fundamentals.ipynb\" target=\"_parent\"><img src=\"https://colab.research.google.com/assets/colab-badge.svg\" alt=\"Open In Colab\"/></a>"
      ]
    },
    {
      "cell_type": "code",
      "execution_count": null,
      "metadata": {
        "colab": {
          "base_uri": "https://localhost:8080/"
        },
        "id": "KMeLQBpm6U46",
        "outputId": "5793c4bb-f2a0-42c8-aeaa-41bdab23ec88"
      },
      "outputs": [
        {
          "output_type": "stream",
          "name": "stdout",
          "text": [
            "2.4.1+cu121\n"
          ]
        }
      ],
      "source": [
        "import torch;\n",
        "import numpy as np\n",
        "import pandas as pd\n",
        "import matplotlib.pyplot as plt\n",
        "\n",
        "print(torch.__version__)"
      ]
    },
    {
      "cell_type": "code",
      "source": [
        "# scalar\n",
        "\n",
        "scalar = torch.tensor(7)\n",
        "scalar"
      ],
      "metadata": {
        "colab": {
          "base_uri": "https://localhost:8080/"
        },
        "id": "J-x55zmr9kKh",
        "outputId": "dab25381-8e75-4d13-823b-f72519319e05"
      },
      "execution_count": null,
      "outputs": [
        {
          "output_type": "execute_result",
          "data": {
            "text/plain": [
              "tensor(7)"
            ]
          },
          "metadata": {},
          "execution_count": 8
        }
      ]
    },
    {
      "cell_type": "code",
      "source": [
        "scalar.ndim"
      ],
      "metadata": {
        "colab": {
          "base_uri": "https://localhost:8080/"
        },
        "id": "7SE3VgDV-Eyh",
        "outputId": "1bb8a7b5-2083-4585-c781-a3bfb383ba3a"
      },
      "execution_count": null,
      "outputs": [
        {
          "output_type": "execute_result",
          "data": {
            "text/plain": [
              "0"
            ]
          },
          "metadata": {},
          "execution_count": 10
        }
      ]
    },
    {
      "cell_type": "code",
      "source": [
        "# Get Scalar as a python int\n",
        "scalar.item()"
      ],
      "metadata": {
        "colab": {
          "base_uri": "https://localhost:8080/"
        },
        "id": "IHIIewh--XZZ",
        "outputId": "9f370cdc-7914-472a-9e52-dd9788684519"
      },
      "execution_count": null,
      "outputs": [
        {
          "output_type": "execute_result",
          "data": {
            "text/plain": [
              "7"
            ]
          },
          "metadata": {},
          "execution_count": 12
        }
      ]
    },
    {
      "cell_type": "code",
      "source": [
        "vector = torch.tensor([7, 7])\n",
        "vector"
      ],
      "metadata": {
        "colab": {
          "base_uri": "https://localhost:8080/"
        },
        "id": "OQrMFuVO-d6o",
        "outputId": "8b586a2a-7c61-406f-b8f0-3c06b20a7506"
      },
      "execution_count": null,
      "outputs": [
        {
          "output_type": "execute_result",
          "data": {
            "text/plain": [
              "tensor([7, 7])"
            ]
          },
          "metadata": {},
          "execution_count": 13
        }
      ]
    },
    {
      "cell_type": "code",
      "source": [
        "vector.ndim"
      ],
      "metadata": {
        "colab": {
          "base_uri": "https://localhost:8080/"
        },
        "id": "8iEwcDI9-qq1",
        "outputId": "e57c12b9-e351-4b57-87dc-bdecebb2b04f"
      },
      "execution_count": null,
      "outputs": [
        {
          "output_type": "execute_result",
          "data": {
            "text/plain": [
              "1"
            ]
          },
          "metadata": {},
          "execution_count": 14
        }
      ]
    },
    {
      "cell_type": "code",
      "source": [
        "# no of pair of sq bracets = no of dimensions\n",
        "\n",
        "vector.shape"
      ],
      "metadata": {
        "colab": {
          "base_uri": "https://localhost:8080/"
        },
        "id": "rxN5a6vW_fQn",
        "outputId": "3a3b4b16-7deb-4f3e-b733-d74547508d9e"
      },
      "execution_count": null,
      "outputs": [
        {
          "output_type": "execute_result",
          "data": {
            "text/plain": [
              "torch.Size([2])"
            ]
          },
          "metadata": {},
          "execution_count": 26
        }
      ]
    },
    {
      "cell_type": "code",
      "source": [
        "# MATRIX\n",
        "MATRIX = torch.tensor([[1, 2],\n",
        "                       [3, 4]])\n",
        "print(MATRIX.ndim)\n",
        "print(MATRIX.shape)\n",
        "MATRIX"
      ],
      "metadata": {
        "colab": {
          "base_uri": "https://localhost:8080/"
        },
        "id": "-YsOVX8N_jeY",
        "outputId": "bcb2d1cd-0eb7-420c-b11e-1e94264af996"
      },
      "execution_count": null,
      "outputs": [
        {
          "output_type": "stream",
          "name": "stdout",
          "text": [
            "2\n",
            "torch.Size([2, 2])\n"
          ]
        },
        {
          "output_type": "execute_result",
          "data": {
            "text/plain": [
              "tensor([[1, 2],\n",
              "        [3, 4]])"
            ]
          },
          "metadata": {},
          "execution_count": 29
        }
      ]
    },
    {
      "cell_type": "code",
      "source": [
        "print(MATRIX[0])\n",
        "print(MATRIX[1])"
      ],
      "metadata": {
        "colab": {
          "base_uri": "https://localhost:8080/"
        },
        "id": "wIMn0IOG_spv",
        "outputId": "76e5ffac-c522-4ee2-cb54-7f423909941a"
      },
      "execution_count": null,
      "outputs": [
        {
          "output_type": "stream",
          "name": "stdout",
          "text": [
            "tensor([1, 2])\n",
            "tensor([3, 4])\n"
          ]
        }
      ]
    },
    {
      "cell_type": "code",
      "source": [
        "# TENSOR\n",
        "TENSOR = torch.tensor([[[1, 2, 3],\n",
        "                        [4, 5, 6],\n",
        "                        [7, 8, 9]]])\n",
        "print(TENSOR)\n",
        "print(TENSOR.ndim)\n",
        "print(TENSOR.shape)"
      ],
      "metadata": {
        "colab": {
          "base_uri": "https://localhost:8080/"
        },
        "id": "e4V3kEPZBoe9",
        "outputId": "859b25d5-e793-46e4-fcd4-fc983e047cbc"
      },
      "execution_count": null,
      "outputs": [
        {
          "output_type": "stream",
          "name": "stdout",
          "text": [
            "tensor([[[1, 2, 3],\n",
            "         [4, 5, 6],\n",
            "         [7, 8, 9]]])\n",
            "3\n",
            "torch.Size([1, 3, 3])\n"
          ]
        }
      ]
    },
    {
      "cell_type": "code",
      "source": [
        "TENSOR = torch.tensor([[[1, 2, 3],\n",
        "                        [1, 2, 3],\n",
        "                        [4, 5, 6],\n",
        "                        [7, 8, 9]]])\n",
        "print(TENSOR)\n",
        "print(TENSOR.ndim)\n",
        "print(TENSOR.shape)"
      ],
      "metadata": {
        "colab": {
          "base_uri": "https://localhost:8080/"
        },
        "id": "oJwPey34CC38",
        "outputId": "35b3dc19-e1fe-4de8-9342-294647a19652"
      },
      "execution_count": null,
      "outputs": [
        {
          "output_type": "stream",
          "name": "stdout",
          "text": [
            "tensor([[[1, 2, 3],\n",
            "         [1, 2, 3],\n",
            "         [4, 5, 6],\n",
            "         [7, 8, 9]]])\n",
            "3\n",
            "torch.Size([1, 4, 3])\n"
          ]
        }
      ]
    },
    {
      "cell_type": "code",
      "source": [
        "TENSOR = torch.tensor([[[1, 2, 3, 4],\n",
        "                        [1, 2, 3, 4],\n",
        "                        [4, 5, 6, 4],\n",
        "                        [7, 8, 9, 4]]])\n",
        "print(TENSOR)\n",
        "print(TENSOR.ndim)\n",
        "print(TENSOR.shape)"
      ],
      "metadata": {
        "colab": {
          "base_uri": "https://localhost:8080/"
        },
        "id": "JkrWXJxgCMnD",
        "outputId": "6d59e84f-815b-4ed6-dc11-0cf072a4defd"
      },
      "execution_count": null,
      "outputs": [
        {
          "output_type": "stream",
          "name": "stdout",
          "text": [
            "tensor([[[1, 2, 3, 4],\n",
            "         [1, 2, 3, 4],\n",
            "         [4, 5, 6, 4],\n",
            "         [7, 8, 9, 4]]])\n",
            "3\n",
            "torch.Size([1, 4, 4])\n"
          ]
        }
      ]
    },
    {
      "cell_type": "code",
      "source": [
        "TENSOR = torch.tensor([[[1, 2, 3],\n",
        "                        [1, 2, 3],\n",
        "                        [4, 5, 6],\n",
        "                        [7, 8, 9]],\n",
        "                       [[1, 2, 3],\n",
        "                        [1, 2, 3],\n",
        "                        [4, 5, 6],\n",
        "                        [7, 8, 9]]])\n",
        "print(TENSOR)\n",
        "print(TENSOR.ndim)\n",
        "print(TENSOR.shape)"
      ],
      "metadata": {
        "colab": {
          "base_uri": "https://localhost:8080/"
        },
        "id": "dgkwyBrXDdln",
        "outputId": "a2bf3b65-3e32-4764-d336-6fc0e2026873"
      },
      "execution_count": null,
      "outputs": [
        {
          "output_type": "stream",
          "name": "stdout",
          "text": [
            "tensor([[[1, 2, 3],\n",
            "         [1, 2, 3],\n",
            "         [4, 5, 6],\n",
            "         [7, 8, 9]],\n",
            "\n",
            "        [[1, 2, 3],\n",
            "         [1, 2, 3],\n",
            "         [4, 5, 6],\n",
            "         [7, 8, 9]]])\n",
            "3\n",
            "torch.Size([2, 4, 3])\n"
          ]
        }
      ]
    },
    {
      "cell_type": "markdown",
      "source": [
        "# Random Tensors\n",
        "Why random tensors??\n",
        "\n",
        "Random tensors are important because the way many neural networks learn is that they start with tensors full of random numbers\n",
        "and adjust those random numbers to better represent the data\n",
        "\n",
        "`Start with random nubmer -> look at data -> update random numbers -> look at data -> update random numbers `"
      ],
      "metadata": {
        "id": "62gE_chxDtpc"
      }
    },
    {
      "cell_type": "code",
      "source": [
        "# Create a random tensor of size (3, 4)\n",
        "random_tensor = torch.rand(1, 3, 4)\n",
        "print(random_tensor)\n",
        "print(random_tensor.ndim)\n",
        "print(random_tensor.shape)"
      ],
      "metadata": {
        "colab": {
          "base_uri": "https://localhost:8080/"
        },
        "id": "doBrhCzOFaVJ",
        "outputId": "2546a9b5-0b27-4834-b5f9-2dc930c43a3d"
      },
      "execution_count": null,
      "outputs": [
        {
          "output_type": "stream",
          "name": "stdout",
          "text": [
            "tensor([[[0.0503, 0.9106, 0.7554, 0.0068],\n",
            "         [0.4413, 0.4953, 0.5673, 0.4607],\n",
            "         [0.5790, 0.7061, 0.3406, 0.7670]]])\n",
            "3\n",
            "torch.Size([1, 3, 4])\n"
          ]
        }
      ]
    },
    {
      "cell_type": "code",
      "source": [
        "  # Create a random tensor with similar shape to an image tensor\n",
        "random_image_size_tensor = torch.rand(size=[224, 224, 3]) # height, width, color channels\n",
        "print(random_image_size_tensor)\n",
        "print(random_image_size_tensor.ndim)\n",
        "print(random_image_size_tensor.shape)"
      ],
      "metadata": {
        "colab": {
          "base_uri": "https://localhost:8080/"
        },
        "id": "_ABFDAGXGjaF",
        "outputId": "55988486-b044-4c7e-8650-91e2df6d252c"
      },
      "execution_count": null,
      "outputs": [
        {
          "output_type": "stream",
          "name": "stdout",
          "text": [
            "tensor([[[5.0306e-05, 3.8552e-01, 8.2591e-01],\n",
            "         [6.3393e-01, 7.5027e-01, 9.7563e-01],\n",
            "         [5.3479e-01, 4.5663e-01, 6.5843e-01],\n",
            "         ...,\n",
            "         [3.1221e-01, 2.8334e-01, 5.0840e-01],\n",
            "         [6.1440e-01, 3.0727e-02, 1.7586e-01],\n",
            "         [7.4543e-01, 6.0876e-01, 6.8414e-02]],\n",
            "\n",
            "        [[8.7041e-03, 5.6621e-01, 9.1626e-01],\n",
            "         [5.9408e-01, 7.3438e-01, 2.7053e-01],\n",
            "         [3.3373e-01, 8.9148e-01, 7.8515e-02],\n",
            "         ...,\n",
            "         [9.2474e-02, 7.2350e-01, 1.8893e-01],\n",
            "         [7.9915e-01, 4.4235e-01, 6.4453e-01],\n",
            "         [9.9926e-01, 8.6364e-01, 3.3050e-01]],\n",
            "\n",
            "        [[3.6391e-01, 6.9047e-01, 5.4529e-01],\n",
            "         [9.1007e-01, 5.3788e-02, 8.1666e-01],\n",
            "         [7.4077e-01, 9.1754e-01, 5.3923e-01],\n",
            "         ...,\n",
            "         [1.2605e-01, 8.7363e-01, 7.7427e-01],\n",
            "         [9.5211e-01, 6.5799e-01, 9.5053e-01],\n",
            "         [2.9530e-01, 4.9832e-01, 4.7358e-01]],\n",
            "\n",
            "        ...,\n",
            "\n",
            "        [[5.3705e-01, 7.5431e-01, 5.4161e-01],\n",
            "         [5.4169e-01, 5.9763e-01, 4.2022e-01],\n",
            "         [2.4070e-01, 1.3858e-01, 4.1032e-01],\n",
            "         ...,\n",
            "         [2.8249e-01, 8.3576e-01, 9.0666e-01],\n",
            "         [3.5534e-01, 5.7570e-01, 7.6642e-01],\n",
            "         [2.3553e-01, 7.6512e-01, 6.5348e-01]],\n",
            "\n",
            "        [[6.7096e-01, 2.3646e-01, 7.7906e-02],\n",
            "         [4.6418e-01, 3.2546e-01, 6.4220e-01],\n",
            "         [9.2373e-03, 6.1338e-01, 4.1056e-01],\n",
            "         ...,\n",
            "         [6.0091e-01, 6.3825e-01, 2.5809e-01],\n",
            "         [6.3904e-01, 7.3567e-02, 9.3095e-01],\n",
            "         [7.1908e-01, 3.7645e-01, 4.7821e-01]],\n",
            "\n",
            "        [[8.3031e-01, 5.8449e-01, 9.7661e-01],\n",
            "         [2.8217e-01, 9.5343e-01, 9.0926e-01],\n",
            "         [1.5126e-01, 1.2162e-01, 3.3561e-01],\n",
            "         ...,\n",
            "         [4.0572e-01, 6.9698e-01, 5.1243e-01],\n",
            "         [5.9261e-01, 5.0855e-01, 3.4306e-01],\n",
            "         [7.2678e-01, 3.7838e-01, 2.4107e-01]]])\n",
            "3\n",
            "torch.Size([224, 224, 3])\n"
          ]
        }
      ]
    },
    {
      "cell_type": "markdown",
      "source": [
        "### Zeros and Ones"
      ],
      "metadata": {
        "id": "wB8zVFR2HwX8"
      }
    },
    {
      "cell_type": "code",
      "source": [
        "# Create a tesnor of all zeros\n",
        "zeros = torch.zeros(size=[3,4])\n",
        "zeros, zeros * random_tensor"
      ],
      "metadata": {
        "colab": {
          "base_uri": "https://localhost:8080/"
        },
        "id": "LgHP-nIMIlG1",
        "outputId": "d83bf7e2-803e-437d-8d23-dd878ecbec26"
      },
      "execution_count": null,
      "outputs": [
        {
          "output_type": "execute_result",
          "data": {
            "text/plain": [
              "(tensor([[0., 0., 0., 0.],\n",
              "         [0., 0., 0., 0.],\n",
              "         [0., 0., 0., 0.]]),\n",
              " tensor([[[0., 0., 0., 0.],\n",
              "          [0., 0., 0., 0.],\n",
              "          [0., 0., 0., 0.]]]))"
            ]
          },
          "metadata": {},
          "execution_count": 57
        }
      ]
    },
    {
      "cell_type": "code",
      "source": [
        "# Create a tensor of all ones\n",
        "ones = torch.ones(size=[3,4])\n",
        "ones, ones * random_tensor"
      ],
      "metadata": {
        "colab": {
          "base_uri": "https://localhost:8080/"
        },
        "id": "lCcp-vpVIoQ1",
        "outputId": "8fd45ff5-e1ef-4a23-955f-5999db639ff5"
      },
      "execution_count": null,
      "outputs": [
        {
          "output_type": "execute_result",
          "data": {
            "text/plain": [
              "(tensor([[1., 1., 1., 1.],\n",
              "         [1., 1., 1., 1.],\n",
              "         [1., 1., 1., 1.]]),\n",
              " tensor([[[0.0503, 0.9106, 0.7554, 0.0068],\n",
              "          [0.4413, 0.4953, 0.5673, 0.4607],\n",
              "          [0.5790, 0.7061, 0.3406, 0.7670]]]))"
            ]
          },
          "metadata": {},
          "execution_count": 58
        }
      ]
    },
    {
      "cell_type": "code",
      "source": [
        " ones.dtype"
      ],
      "metadata": {
        "colab": {
          "base_uri": "https://localhost:8080/"
        },
        "id": "8mzenLg9JFzD",
        "outputId": "ee449c06-4803-4744-d47c-f35e2bee2d89"
      },
      "execution_count": null,
      "outputs": [
        {
          "output_type": "execute_result",
          "data": {
            "text/plain": [
              "torch.float32"
            ]
          },
          "metadata": {},
          "execution_count": 59
        }
      ]
    },
    {
      "cell_type": "markdown",
      "source": [
        "### Create a range of tensors and tensors-like"
      ],
      "metadata": {
        "id": "9Ly035PRJKEw"
      }
    },
    {
      "cell_type": "code",
      "source": [
        "# use torch.range\n",
        "torch.arange(10, 120)"
      ],
      "metadata": {
        "colab": {
          "base_uri": "https://localhost:8080/"
        },
        "id": "qg9Sn1YXJo-h",
        "outputId": "38638326-8577-4cce-c89b-5514c652ecb4"
      },
      "execution_count": null,
      "outputs": [
        {
          "output_type": "execute_result",
          "data": {
            "text/plain": [
              "tensor([ 10,  11,  12,  13,  14,  15,  16,  17,  18,  19,  20,  21,  22,  23,\n",
              "         24,  25,  26,  27,  28,  29,  30,  31,  32,  33,  34,  35,  36,  37,\n",
              "         38,  39,  40,  41,  42,  43,  44,  45,  46,  47,  48,  49,  50,  51,\n",
              "         52,  53,  54,  55,  56,  57,  58,  59,  60,  61,  62,  63,  64,  65,\n",
              "         66,  67,  68,  69,  70,  71,  72,  73,  74,  75,  76,  77,  78,  79,\n",
              "         80,  81,  82,  83,  84,  85,  86,  87,  88,  89,  90,  91,  92,  93,\n",
              "         94,  95,  96,  97,  98,  99, 100, 101, 102, 103, 104, 105, 106, 107,\n",
              "        108, 109, 110, 111, 112, 113, 114, 115, 116, 117, 118, 119])"
            ]
          },
          "metadata": {},
          "execution_count": 63
        }
      ]
    },
    {
      "cell_type": "code",
      "source": [
        "range = torch.arange(start=10, end=1000, step=5)\n",
        "range"
      ],
      "metadata": {
        "colab": {
          "base_uri": "https://localhost:8080/"
        },
        "id": "cV8g9gwnLKIh",
        "outputId": "c01744b1-00b2-4a1d-d2ae-4847dea5841e"
      },
      "execution_count": null,
      "outputs": [
        {
          "output_type": "execute_result",
          "data": {
            "text/plain": [
              "tensor([ 10,  15,  20,  25,  30,  35,  40,  45,  50,  55,  60,  65,  70,  75,\n",
              "         80,  85,  90,  95, 100, 105, 110, 115, 120, 125, 130, 135, 140, 145,\n",
              "        150, 155, 160, 165, 170, 175, 180, 185, 190, 195, 200, 205, 210, 215,\n",
              "        220, 225, 230, 235, 240, 245, 250, 255, 260, 265, 270, 275, 280, 285,\n",
              "        290, 295, 300, 305, 310, 315, 320, 325, 330, 335, 340, 345, 350, 355,\n",
              "        360, 365, 370, 375, 380, 385, 390, 395, 400, 405, 410, 415, 420, 425,\n",
              "        430, 435, 440, 445, 450, 455, 460, 465, 470, 475, 480, 485, 490, 495,\n",
              "        500, 505, 510, 515, 520, 525, 530, 535, 540, 545, 550, 555, 560, 565,\n",
              "        570, 575, 580, 585, 590, 595, 600, 605, 610, 615, 620, 625, 630, 635,\n",
              "        640, 645, 650, 655, 660, 665, 670, 675, 680, 685, 690, 695, 700, 705,\n",
              "        710, 715, 720, 725, 730, 735, 740, 745, 750, 755, 760, 765, 770, 775,\n",
              "        780, 785, 790, 795, 800, 805, 810, 815, 820, 825, 830, 835, 840, 845,\n",
              "        850, 855, 860, 865, 870, 875, 880, 885, 890, 895, 900, 905, 910, 915,\n",
              "        920, 925, 930, 935, 940, 945, 950, 955, 960, 965, 970, 975, 980, 985,\n",
              "        990, 995])"
            ]
          },
          "metadata": {},
          "execution_count": 70
        }
      ]
    },
    {
      "cell_type": "code",
      "source": [
        "# Creating tensors like\n",
        "ten_zeros = torch.zeros_like(input=range)\n",
        "ten_zeros"
      ],
      "metadata": {
        "colab": {
          "base_uri": "https://localhost:8080/"
        },
        "id": "Hue1S0eZLuiQ",
        "outputId": "03d50814-d6bd-48f8-e54f-d2b5d4625627"
      },
      "execution_count": null,
      "outputs": [
        {
          "output_type": "execute_result",
          "data": {
            "text/plain": [
              "tensor([0, 0, 0, 0, 0, 0, 0, 0, 0, 0, 0, 0, 0, 0, 0, 0, 0, 0, 0, 0, 0, 0, 0, 0,\n",
              "        0, 0, 0, 0, 0, 0, 0, 0, 0, 0, 0, 0, 0, 0, 0, 0, 0, 0, 0, 0, 0, 0, 0, 0,\n",
              "        0, 0, 0, 0, 0, 0, 0, 0, 0, 0, 0, 0, 0, 0, 0, 0, 0, 0, 0, 0, 0, 0, 0, 0,\n",
              "        0, 0, 0, 0, 0, 0, 0, 0, 0, 0, 0, 0, 0, 0, 0, 0, 0, 0, 0, 0, 0, 0, 0, 0,\n",
              "        0, 0, 0, 0, 0, 0, 0, 0, 0, 0, 0, 0, 0, 0, 0, 0, 0, 0, 0, 0, 0, 0, 0, 0,\n",
              "        0, 0, 0, 0, 0, 0, 0, 0, 0, 0, 0, 0, 0, 0, 0, 0, 0, 0, 0, 0, 0, 0, 0, 0,\n",
              "        0, 0, 0, 0, 0, 0, 0, 0, 0, 0, 0, 0, 0, 0, 0, 0, 0, 0, 0, 0, 0, 0, 0, 0,\n",
              "        0, 0, 0, 0, 0, 0, 0, 0, 0, 0, 0, 0, 0, 0, 0, 0, 0, 0, 0, 0, 0, 0, 0, 0,\n",
              "        0, 0, 0, 0, 0, 0])"
            ]
          },
          "metadata": {},
          "execution_count": 71
        }
      ]
    },
    {
      "cell_type": "code",
      "source": [],
      "metadata": {
        "id": "TS07DjsVNZrT"
      },
      "execution_count": null,
      "outputs": []
    }
  ]
}